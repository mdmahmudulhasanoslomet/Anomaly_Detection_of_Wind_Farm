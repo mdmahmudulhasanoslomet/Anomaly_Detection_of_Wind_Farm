{
 "cells": [
  {
   "cell_type": "code",
   "execution_count": 8,
   "metadata": {},
   "outputs": [],
   "source": [
    "import pandas as pd\n",
    "\n",
    "# === Load 2016 Dataset ===\n",
    "df = pd.read_csv('C:/Own use/Thesis/Wind_Turbine/Datasets/Scada_Data(Wind_Turbine)/Wind-Turbine-SCADA-signals-2016/Without_Grd_Column/Latest/Wind-Turbine-SCADA-signals-2017_(T07)_TimeSequence.csv')\n"
   ]
  },
  {
   "cell_type": "code",
   "execution_count": 11,
   "metadata": {},
   "outputs": [
    {
     "name": "stdout",
     "output_type": "stream",
     "text": [
      "✅ Saved: C:/Own use/Thesis/Wind_Turbine/Datasets/Scada_Data(Wind_Turbine)/Wind-Turbine-SCADA-signals-2016/Without_Grd_Column/Wind_Turbine_SCADA_2017_T7_plus_1percent.csv\n",
      "✅ Saved: C:/Own use/Thesis/Wind_Turbine/Datasets/Scada_Data(Wind_Turbine)/Wind-Turbine-SCADA-signals-2016/Without_Grd_Column/Wind_Turbine_SCADA_2017_T7_plus_3percent.csv\n",
      "✅ Saved: C:/Own use/Thesis/Wind_Turbine/Datasets/Scada_Data(Wind_Turbine)/Wind-Turbine-SCADA-signals-2016/Without_Grd_Column/Wind_Turbine_SCADA_2017_T7_plus_5percent.csv\n"
     ]
    }
   ],
   "source": [
    "# === Columns to exclude ===\n",
    "exclude_cols = ['Turbine_ID', 'Timestamp']\n",
    "\n",
    "# === Columns to modify ===\n",
    "mod_cols = [col for col in df.columns if col not in exclude_cols]\n",
    "\n",
    "# === Percentage list (e.g., -5%, -3%, -1%, +1%, +3%, +5%) ===\n",
    "percent_changes = [1, 3, 5]\n",
    "\n",
    "# === Create new datasets with % changes ===\n",
    "for pct in percent_changes:\n",
    "    df_modified = df.copy()\n",
    "    df_modified[mod_cols] = df_modified[mod_cols] * (1 + pct / 100.0)\n",
    "    \n",
    "    # Format filename\n",
    "    sign = 'plus' if pct > 0 else 'minus'\n",
    "    pct_abs = abs(pct)\n",
    "    filename = f\"C:/Own use/Thesis/Wind_Turbine/Datasets/Scada_Data(Wind_Turbine)/Wind-Turbine-SCADA-signals-2016/Without_Grd_Column/Wind_Turbine_SCADA_2017_T7_plus_{pct_abs}percent.csv\"\n",
    "    \n",
    "    # Save modified CSV\n",
    "    df_modified.to_csv(filename, index=False)\n",
    "    print(f\"✅ Saved: {filename}\")\n"
   ]
  },
  {
   "cell_type": "code",
   "execution_count": null,
   "metadata": {},
   "outputs": [],
   "source": [
    "C:/Own use/Thesis/Wind_Turbine/Datasets/Scada_Data(Wind_Turbine)/Wind-Turbine-SCADA-signals-2016/Without_Grd_Column/Latest/Wind_Turbine_SCADA_2016_T7_plus_{pct}percent.csv"
   ]
  },
  {
   "cell_type": "code",
   "execution_count": null,
   "metadata": {},
   "outputs": [
    {
     "name": "stdout",
     "output_type": "stream",
     "text": [
      "✅ Loaded: Wind-Turbine-SCADA-signals-2016_(T07)_TimeSequence.csv\n",
      "✅ Loaded: Wind-Turbine-SCADA-signals-2017_(T07)_TimeSequence.csv\n",
      "✅ Loaded: Wind_Turbine_SCADA_2016_T7_minus_1percent.csv\n",
      "✅ Loaded: Wind_Turbine_SCADA_2016_T7_minus_3percent.csv\n",
      "✅ Loaded: Wind_Turbine_SCADA_2016_T7_minus_5percent.csv\n",
      "✅ Loaded: Wind_Turbine_SCADA_2016_T7_plus_1percent.csv\n",
      "✅ Loaded: Wind_Turbine_SCADA_2016_T7_plus_3percent.csv\n",
      "✅ Loaded: Wind_Turbine_SCADA_2016_T7_plus_5percent.csv\n",
      "✅ Loaded: Wind_Turbine_SCADA_2017_T7_minus_1percent.csv\n",
      "✅ Loaded: Wind_Turbine_SCADA_2017_T7_minus_3percent.csv\n",
      "✅ Loaded: Wind_Turbine_SCADA_2017_T7_minus_5percent.csv\n",
      "✅ Loaded: Wind_Turbine_SCADA_2017_T7_plus_1percent.csv\n",
      "✅ Loaded: Wind_Turbine_SCADA_2017_T7_plus_3percent.csv\n",
      "✅ Loaded: Wind_Turbine_SCADA_2017_T7_plus_5percent.csv\n",
      "\n",
      "📁 Combined file saved as: C:/Own use/Thesis/Wind_Turbine/Datasets/Scada_Data(Wind_Turbine)/Wind-Turbine-SCADA-signals-2016/Without_Grd_Column/Latest/DigitalTwin/Combined_SCADA_2016_&_2017_modified.csv\n"
     ]
    }
   ],
   "source": []
  }
 ],
 "metadata": {
  "kernelspec": {
   "display_name": "Python 3",
   "language": "python",
   "name": "python3"
  },
  "language_info": {
   "codemirror_mode": {
    "name": "ipython",
    "version": 3
   },
   "file_extension": ".py",
   "mimetype": "text/x-python",
   "name": "python",
   "nbconvert_exporter": "python",
   "pygments_lexer": "ipython3",
   "version": "3.12.6"
  }
 },
 "nbformat": 4,
 "nbformat_minor": 2
}
